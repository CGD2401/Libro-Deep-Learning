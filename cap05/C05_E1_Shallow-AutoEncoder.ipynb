{
 "cells": [
  {
   "cell_type": "markdown",
   "metadata": {},
   "source": [
    "<div style=\"width: 100%; clear: both;\">\n",
    "<div style=\"float: left; width: 50%;\">\n",
    "<img src=\"http://www.uoc.edu/portal/_resources/common/imatges/marca_UOC/UOC_Masterbrand.jpg\", align=\"left\">\n",
    "</div>\n",
    "<div style=\"float: right; width: 50%;\">\n",
    "<p style=\"margin: 0; padding-top: 22px; text-align:right;\"><a href=\"https://www.editorialuoc.cat/deep-learning\" target=\"_blank\\\">Deep learning: Principios y fundamentos</a></p>\n",
    "<p style=\"margin: 0; text-align:right;\">Estudios de Informática, Multimedia y Telecomunicación</p>\n",
    "<p style=\"margin: 0; text-align:right; padding-button: 100px;\">Universitat Oberta de Catalunya (UOC)</p>\n",
    "</div>\n",
    "</div>\n",
    "<div style=\"width:100%;\">&nbsp;</div>\n",
    "\n",
    "\n",
    "# Capítulo 5: Ejemplo de funcionamiento de Autoencoder"
   ]
  },
  {
   "cell_type": "markdown",
   "metadata": {},
   "source": [
    "En este ejemplo veremos un caso de aplicación para un autoencoder. En concreto, nos centraremos en la compresión y reconstrucción de imágenes empleando *autoencoders*.\n",
    "\n",
    "<u>Nota</u>: Este ejemplo está basado en https://blog.keras.io/building-autoencoders-in-keras.html"
   ]
  },
  {
   "cell_type": "markdown",
   "metadata": {},
   "source": [
    "Deshabilitamos la aparición de warnings.\n",
    "\n",
    "<u>Nota</u>: No se recomienda este paso cuando se está desarrollando el código."
   ]
  },
  {
   "cell_type": "code",
   "execution_count": 4,
   "metadata": {},
   "outputs": [],
   "source": [
    "import warnings\n",
    "\n",
    "warnings.filterwarnings('ignore')"
   ]
  },
  {
   "cell_type": "markdown",
   "metadata": {},
   "source": [
    "## 1. Carga del conjunto de datos\n",
    "\n",
    "En primer lugar, cargamos el conjunto de datos, que en este caso será el dataset de dígitos [MNIST](https://en.wikipedia.org/wiki/MNIST_database). \n",
    "\n",
    "Realizamos esta carga, directamente, a partir de la librería [Keras](https://keras.io/)."
   ]
  },
  {
   "cell_type": "code",
   "execution_count": 5,
   "metadata": {},
   "outputs": [],
   "source": [
    "from keras.datasets import mnist\n",
    "import numpy as np\n",
    "\n",
    "(x_train, _), (x_test, _) = mnist.load_data()"
   ]
  },
  {
   "cell_type": "code",
   "execution_count": 6,
   "metadata": {},
   "outputs": [
    {
     "name": "stdout",
     "output_type": "stream",
     "text": [
      "(60000, 784)\n",
      "(10000, 784)\n"
     ]
    }
   ],
   "source": [
    "x_train = x_train.astype('float32') / 255.\n",
    "x_test = x_test.astype('float32') / 255.\n",
    "x_train = x_train.reshape((len(x_train), np.prod(x_train.shape[1:])))\n",
    "x_test = x_test.reshape((len(x_test), np.prod(x_test.shape[1:])))\n",
    "print(x_train.shape)\n",
    "print(x_test.shape)"
   ]
  },
  {
   "cell_type": "markdown",
   "metadata": {},
   "source": [
    "## 2. Creación del *autoencoder*\n",
    "\n",
    "A continuación, creamos el *autoencoder* en su forma más senzilla:\n",
    "- A partir de las imágenes de entrada de de 28x28 píxeles en escala de grises, se crea una capa con 784 valores de entrada\n",
    "- Creamos un **codificador** (*encoder*) con una representación de 32 neuronas\n",
    "- Creamos un **decodificador** (*decoder*) que genere una salida en la misma resolución que las imágenes de entrada, es decir, 784 neuronas de salida para generar una imagen de 28x28 píxeles en escala de grises."
   ]
  },
  {
   "cell_type": "code",
   "execution_count": 7,
   "metadata": {},
   "outputs": [
    {
     "name": "stdout",
     "output_type": "stream",
     "text": [
      "_________________________________________________________________\n",
      "Layer (type)                 Output Shape              Param #   \n",
      "=================================================================\n",
      "input_2 (InputLayer)         (None, 784)               0         \n",
      "_________________________________________________________________\n",
      "dense_3 (Dense)              (None, 32)                25120     \n",
      "_________________________________________________________________\n",
      "dense_4 (Dense)              (None, 784)               25872     \n",
      "=================================================================\n",
      "Total params: 50,992\n",
      "Trainable params: 50,992\n",
      "Non-trainable params: 0\n",
      "_________________________________________________________________\n"
     ]
    }
   ],
   "source": [
    "from keras.layers import Input, Dense\n",
    "from keras.models import Model\n",
    "\n",
    "# Tamanño de la representación interna del autoencoder\n",
    "encoding_dim = 32\n",
    "\n",
    "# capa de entrada\n",
    "input_img = Input(shape=(784,))\n",
    "# representación interna (encoded)\n",
    "encoded = Dense(encoding_dim, activation='relu')(input_img)\n",
    "# salida del autoencoder, es decir, la imagen reconstruida (decoded)\n",
    "decoded = Dense(784, activation='sigmoid')(encoded)\n",
    "\n",
    "# el modelo completo de autoencoder, que apila la entrada y la salida\n",
    "autoencoder = Model(input_img, decoded)\n",
    "\n",
    "autoencoder.summary()"
   ]
  },
  {
   "cell_type": "markdown",
   "metadata": {},
   "source": [
    "Para finalidades didácticas, definimos el modelo `encoder` que genera la codificación interna del autoencoder, sin el proceso de decodificación."
   ]
  },
  {
   "cell_type": "code",
   "execution_count": 8,
   "metadata": {},
   "outputs": [
    {
     "name": "stdout",
     "output_type": "stream",
     "text": [
      "_________________________________________________________________\n",
      "Layer (type)                 Output Shape              Param #   \n",
      "=================================================================\n",
      "input_2 (InputLayer)         (None, 784)               0         \n",
      "_________________________________________________________________\n",
      "dense_3 (Dense)              (None, 32)                25120     \n",
      "=================================================================\n",
      "Total params: 25,120\n",
      "Trainable params: 25,120\n",
      "Non-trainable params: 0\n",
      "_________________________________________________________________\n"
     ]
    }
   ],
   "source": [
    "# este modelo crea la representación interna\n",
    "encoder = Model(input_img, encoded)\n",
    "\n",
    "encoder.summary()"
   ]
  },
  {
   "cell_type": "markdown",
   "metadata": {},
   "source": [
    "De forma similar, definimos el modelo `decoder` que a partir de la representación interna (32 valores) reconstruye la imagen, es decir, aplica el proceso de decodificación."
   ]
  },
  {
   "cell_type": "code",
   "execution_count": 9,
   "metadata": {},
   "outputs": [
    {
     "name": "stdout",
     "output_type": "stream",
     "text": [
      "_________________________________________________________________\n",
      "Layer (type)                 Output Shape              Param #   \n",
      "=================================================================\n",
      "input_3 (InputLayer)         (None, 32)                0         \n",
      "_________________________________________________________________\n",
      "dense_4 (Dense)              (None, 784)               25872     \n",
      "=================================================================\n",
      "Total params: 25,872\n",
      "Trainable params: 25,872\n",
      "Non-trainable params: 0\n",
      "_________________________________________________________________\n"
     ]
    }
   ],
   "source": [
    "# capa de entrada de la representación interna\n",
    "encoded_input = Input(shape=(encoding_dim,))\n",
    "# obtener la última capa del autoencoder definido previamente\n",
    "decoder_layer = autoencoder.layers[-1]\n",
    "# creación del modelo\n",
    "decoder = Model(encoded_input, decoder_layer(encoded_input))\n",
    "\n",
    "decoder.summary()"
   ]
  },
  {
   "cell_type": "markdown",
   "metadata": {},
   "source": [
    "Finalmente, definimos el optimizador y la función de pérdida empleada para el entrenamiento del *autoencoder*."
   ]
  },
  {
   "cell_type": "markdown",
   "metadata": {},
   "source": [
    "## 3. Entrenamiento del *autoencoder*\n",
    "\n",
    "En el siguiente fragmento de código se entrena el *autoencoder* creado anteriormente.\n",
    "\n",
    "Los hiperparámetros para ajustar el entrenamiento, además del optimizador y función de pérdida, son:\n",
    "- número de épocas del entrenamiento\n",
    "- tamaño del lote"
   ]
  },
  {
   "cell_type": "code",
   "execution_count": 10,
   "metadata": {},
   "outputs": [
    {
     "name": "stdout",
     "output_type": "stream",
     "text": [
      "WARNING:tensorflow:From /usr/local/lib/python3.5/dist-packages/keras/backend/tensorflow_backend.py:1344: calling reduce_mean (from tensorflow.python.ops.math_ops) with keep_dims is deprecated and will be removed in a future version.\n",
      "Instructions for updating:\n",
      "keep_dims is deprecated, use keepdims instead\n"
     ]
    }
   ],
   "source": [
    "autoencoder.compile(optimizer='adadelta', loss='binary_crossentropy')"
   ]
  },
  {
   "cell_type": "code",
   "execution_count": 11,
   "metadata": {},
   "outputs": [],
   "source": [
    "n_epochs = 50\n",
    "n_batch_size = 256"
   ]
  },
  {
   "cell_type": "code",
   "execution_count": 12,
   "metadata": {},
   "outputs": [
    {
     "name": "stdout",
     "output_type": "stream",
     "text": [
      "Train on 60000 samples, validate on 10000 samples\n",
      "Epoch 1/50\n",
      "60000/60000 [==============================] - 3s 43us/step - loss: 0.3791 - val_loss: 0.2724\n",
      "Epoch 2/50\n",
      "60000/60000 [==============================] - 2s 38us/step - loss: 0.2649 - val_loss: 0.2543\n",
      "Epoch 3/50\n",
      "60000/60000 [==============================] - 2s 39us/step - loss: 0.2445 - val_loss: 0.2323\n",
      "Epoch 4/50\n",
      "60000/60000 [==============================] - 2s 39us/step - loss: 0.2243 - val_loss: 0.2141\n",
      "Epoch 5/50\n",
      "60000/60000 [==============================] - 2s 39us/step - loss: 0.2087 - val_loss: 0.2012\n",
      "Epoch 6/50\n",
      "60000/60000 [==============================] - 2s 39us/step - loss: 0.1979 - val_loss: 0.1921\n",
      "Epoch 7/50\n",
      "60000/60000 [==============================] - 2s 39us/step - loss: 0.1899 - val_loss: 0.1850\n",
      "Epoch 8/50\n",
      "60000/60000 [==============================] - 2s 38us/step - loss: 0.1833 - val_loss: 0.1789\n",
      "Epoch 9/50\n",
      "60000/60000 [==============================] - 2s 39us/step - loss: 0.1774 - val_loss: 0.1733\n",
      "Epoch 10/50\n",
      "60000/60000 [==============================] - 2s 39us/step - loss: 0.1722 - val_loss: 0.1684\n",
      "Epoch 11/50\n",
      "60000/60000 [==============================] - 2s 40us/step - loss: 0.1675 - val_loss: 0.1639\n",
      "Epoch 12/50\n",
      "60000/60000 [==============================] - 2s 38us/step - loss: 0.1633 - val_loss: 0.1599\n",
      "Epoch 13/50\n",
      "60000/60000 [==============================] - 2s 41us/step - loss: 0.1594 - val_loss: 0.1561\n",
      "Epoch 14/50\n",
      "60000/60000 [==============================] - 2s 41us/step - loss: 0.1558 - val_loss: 0.1527\n",
      "Epoch 15/50\n",
      "60000/60000 [==============================] - 2s 41us/step - loss: 0.1525 - val_loss: 0.1495\n",
      "Epoch 16/50\n",
      "60000/60000 [==============================] - 2s 41us/step - loss: 0.1493 - val_loss: 0.1464\n",
      "Epoch 17/50\n",
      "60000/60000 [==============================] - 3s 42us/step - loss: 0.1463 - val_loss: 0.1435\n",
      "Epoch 18/50\n",
      "60000/60000 [==============================] - 2s 41us/step - loss: 0.1435 - val_loss: 0.1407\n",
      "Epoch 19/50\n",
      "60000/60000 [==============================] - 2s 39us/step - loss: 0.1409 - val_loss: 0.1382\n",
      "Epoch 20/50\n",
      "60000/60000 [==============================] - 2s 38us/step - loss: 0.1384 - val_loss: 0.1358\n",
      "Epoch 21/50\n",
      "60000/60000 [==============================] - 2s 39us/step - loss: 0.1361 - val_loss: 0.1334\n",
      "Epoch 22/50\n",
      "60000/60000 [==============================] - 2s 39us/step - loss: 0.1339 - val_loss: 0.1314\n",
      "Epoch 23/50\n",
      "60000/60000 [==============================] - 2s 39us/step - loss: 0.1319 - val_loss: 0.1293\n",
      "Epoch 24/50\n",
      "60000/60000 [==============================] - 2s 39us/step - loss: 0.1299 - val_loss: 0.1274\n",
      "Epoch 25/50\n",
      "60000/60000 [==============================] - 2s 39us/step - loss: 0.1280 - val_loss: 0.1255\n",
      "Epoch 26/50\n",
      "60000/60000 [==============================] - 2s 39us/step - loss: 0.1263 - val_loss: 0.1238\n",
      "Epoch 27/50\n",
      "60000/60000 [==============================] - 2s 39us/step - loss: 0.1246 - val_loss: 0.1221\n",
      "Epoch 28/50\n",
      "60000/60000 [==============================] - 2s 40us/step - loss: 0.1229 - val_loss: 0.1206\n",
      "Epoch 29/50\n",
      "60000/60000 [==============================] - 2s 41us/step - loss: 0.1214 - val_loss: 0.1191\n",
      "Epoch 30/50\n",
      "60000/60000 [==============================] - 2s 39us/step - loss: 0.1199 - val_loss: 0.1175\n",
      "Epoch 31/50\n",
      "60000/60000 [==============================] - 2s 38us/step - loss: 0.1185 - val_loss: 0.1162\n",
      "Epoch 32/50\n",
      "60000/60000 [==============================] - 2s 39us/step - loss: 0.1172 - val_loss: 0.1149\n",
      "Epoch 33/50\n",
      "60000/60000 [==============================] - 2s 39us/step - loss: 0.1159 - val_loss: 0.1137\n",
      "Epoch 34/50\n",
      "60000/60000 [==============================] - 2s 39us/step - loss: 0.1148 - val_loss: 0.1126\n",
      "Epoch 35/50\n",
      "60000/60000 [==============================] - 2s 39us/step - loss: 0.1137 - val_loss: 0.1116\n",
      "Epoch 36/50\n",
      "60000/60000 [==============================] - 2s 40us/step - loss: 0.1127 - val_loss: 0.1106\n",
      "Epoch 37/50\n",
      "60000/60000 [==============================] - 2s 40us/step - loss: 0.1117 - val_loss: 0.1097\n",
      "Epoch 38/50\n",
      "60000/60000 [==============================] - 2s 39us/step - loss: 0.1109 - val_loss: 0.1088\n",
      "Epoch 39/50\n",
      "60000/60000 [==============================] - 2s 39us/step - loss: 0.1101 - val_loss: 0.1080\n",
      "Epoch 40/50\n",
      "60000/60000 [==============================] - 2s 40us/step - loss: 0.1093 - val_loss: 0.1073\n",
      "Epoch 41/50\n",
      "60000/60000 [==============================] - 2s 39us/step - loss: 0.1086 - val_loss: 0.1066\n",
      "Epoch 42/50\n",
      "60000/60000 [==============================] - 2s 39us/step - loss: 0.1079 - val_loss: 0.1060\n",
      "Epoch 43/50\n",
      "60000/60000 [==============================] - 2s 39us/step - loss: 0.1073 - val_loss: 0.1054\n",
      "Epoch 44/50\n",
      "60000/60000 [==============================] - 2s 40us/step - loss: 0.1068 - val_loss: 0.1049\n",
      "Epoch 45/50\n",
      "60000/60000 [==============================] - 2s 40us/step - loss: 0.1062 - val_loss: 0.1044\n",
      "Epoch 46/50\n",
      "60000/60000 [==============================] - 2s 41us/step - loss: 0.1057 - val_loss: 0.1038\n",
      "Epoch 47/50\n",
      "60000/60000 [==============================] - 2s 38us/step - loss: 0.1052 - val_loss: 0.1034\n",
      "Epoch 48/50\n",
      "60000/60000 [==============================] - 2s 39us/step - loss: 0.1048 - val_loss: 0.1030\n",
      "Epoch 49/50\n",
      "60000/60000 [==============================] - 2s 39us/step - loss: 0.1044 - val_loss: 0.1026\n",
      "Epoch 50/50\n",
      "60000/60000 [==============================] - 2s 40us/step - loss: 0.1040 - val_loss: 0.1022\n"
     ]
    }
   ],
   "source": [
    "mfit = autoencoder.fit(x_train, x_train,\n",
    "                epochs=n_epochs,\n",
    "                batch_size=n_batch_size,\n",
    "                shuffle=True,\n",
    "                validation_data=(x_test, x_test))"
   ]
  },
  {
   "cell_type": "code",
   "execution_count": 25,
   "metadata": {},
   "outputs": [
    {
     "data": {
      "image/png": "[encoded data removed]",
      "text/plain": [
       "<matplotlib.figure.Figure at 0x7f957a6d8a90>"
      ]
     },
     "metadata": {},
     "output_type": "display_data"
    }
   ],
   "source": [
    "import matplotlib.pyplot as plt\n",
    "\n",
    "# Plot del training loss\n",
    "plt.style.use(\"ggplot\")\n",
    "\n",
    "plt.plot(np.arange(0, n_epochs), mfit.history[\"loss\"], label=\"train\")\n",
    "plt.plot(np.arange(0, n_epochs), mfit.history[\"val_loss\"], label=\"val\")\n",
    "plt.title(\"Loss\")\n",
    "plt.xlabel(\"Epoch #\")\n",
    "plt.ylabel(\"Loss\")\n",
    "plt.legend(loc=\"upper right\")\n",
    "plt.show()"
   ]
  },
  {
   "cell_type": "markdown",
   "metadata": {},
   "source": [
    "## 4. Visualización de los resultados\n",
    "\n",
    "Finalmente, presentaremos los resultados de aplicar el *autoencoder* en algunos ejemplos del conjunto de datos de test."
   ]
  },
  {
   "cell_type": "code",
   "execution_count": 34,
   "metadata": {},
   "outputs": [],
   "source": [
    "# codificamos y decodificamos las imágenes de test\n",
    "encoded_imgs = encoder.predict(x_test)\n",
    "decoded_imgs = decoder.predict(encoded_imgs)"
   ]
  },
  {
   "cell_type": "markdown",
   "metadata": {},
   "source": [
    "Notese que este paso se puede realizar en un solo paso, empleando:\n",
    "\n",
    "> decoded_imgs = autoencoder.predict(x_test)"
   ]
  },
  {
   "cell_type": "code",
   "execution_count": 35,
   "metadata": {},
   "outputs": [
    {
     "data": {
      "image/png": "[encoded data removed]",
      "text/plain": [
       "<matplotlib.figure.Figure at 0x7f958005fbe0>"
      ]
     },
     "metadata": {},
     "output_type": "display_data"
    }
   ],
   "source": [
    "import matplotlib.pyplot as plt\n",
    "\n",
    "n = 10  # cantidad de ejemplos que mostrar\n",
    "plt.figure(figsize=(20, 4))\n",
    "\n",
    "for i in range(n):\n",
    "    # mostrar la imagen original\n",
    "    ax = plt.subplot(2, n, i + 1)\n",
    "    plt.imshow(x_test[i].reshape(28, 28))\n",
    "    plt.gray()\n",
    "    ax.get_xaxis().set_visible(False)\n",
    "    ax.get_yaxis().set_visible(False)\n",
    "\n",
    "    # mostrar la reconstrucción\n",
    "    ax = plt.subplot(2, n, i + 1 + n)\n",
    "    plt.imshow(decoded_imgs[i].reshape(28, 28))\n",
    "    plt.gray()\n",
    "    ax.get_xaxis().set_visible(False)\n",
    "    ax.get_yaxis().set_visible(False)\n",
    "\n",
    "plt.show()"
   ]
  }
 ],
 "metadata": {
  "kernelspec": {
   "display_name": "Python 3",
   "language": "python",
   "name": "python3"
  },
  "language_info": {
   "codemirror_mode": {
    "name": "ipython",
    "version": 3
   },
   "file_extension": ".py",
   "mimetype": "text/x-python",
   "name": "python",
   "nbconvert_exporter": "python",
   "pygments_lexer": "ipython3",
   "version": "3.5.2"
  }
 },
 "nbformat": 4,
 "nbformat_minor": 2
}
